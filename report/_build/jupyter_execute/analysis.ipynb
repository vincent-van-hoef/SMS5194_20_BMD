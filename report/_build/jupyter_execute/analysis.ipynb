{
 "cells": [
  {
   "cell_type": "markdown",
   "metadata": {},
   "source": [
    "# Analysis\n",
    "\n",
    "## Previous Work\n",
    "\n",
    "The previous work for this project is included here as well."
   ]
  },
  {
   "cell_type": "code",
   "execution_count": 1,
   "metadata": {
    "tags": [
     "hide-input"
    ]
   },
   "outputs": [],
   "source": [
    "suppressWarnings(suppressMessages(suppressPackageStartupMessages({\n",
    "library(\"kableExtra\")\n",
    "library(\"openxlsx\")\n",
    "library(\"ggplot2\")\n",
    "library(\"PCAtools\")\n",
    "library(\"factoextra\")\n",
    "library(\"FactoMineR\")\n",
    "library(\"cowplot\")\n",
    "library(\"ggpubr\")\n",
    "library(\"limma\")\n",
    "library(\"openxlsx\")\n",
    "library(\"matrixStats\")\n",
    "library(\"pcaExplorer\")\n",
    "library(\"dplyr\")\n",
    "})))"
   ]
  },
  {
   "cell_type": "markdown",
   "metadata": {},
   "source": [
    "Load the user-supplied data."
   ]
  },
  {
   "cell_type": "code",
   "execution_count": 2,
   "metadata": {},
   "outputs": [],
   "source": [
    "# Load and clean data...\n",
    "MQ <- readRDS(\"../data/external/MQ.RData\")\n",
    "MNQ <- readRDS(\"../data/external/MNQ.RData\")\n",
    "MNQC <- readRDS(\"../data/external/MNQC.RData\")\n",
    "annotation <- readRDS(\"../data/external/annotation.RDS\")\n",
    "ann <- annotation[match(rownames(MNQC), annotation$Name),c(1:4, 12:19, 22:ncol(annotation))]\n",
    "QCT <- read.csv(\"../data/external/SuperG_pQCT_PE.csv\", sep = \";\", dec=\".\", strip.white = TRUE)\n",
    "phenoData <- readRDS(\"../data/external/phenoData.RData\")\n",
    "pheno\t<- phenoData %>%\n",
    "    as.data.frame() %>%\n",
    "    select(-c(Basename, filenames, xMed, yMed, predictedSex)) %>%\n",
    "    mutate(Fx = ifelse(Fx == 0, \"noFx\", \"Fx\")) %>%\n",
    "    mutate(Batch = ifelse(Batch == 1, \"Batch1\", \"Batch2\")) %>%\n",
    "    mutate(slide_array = paste(Slide, Array, sep=\"_\")) %>%\n",
    "    mutate(group = paste(BMD, Fx, sep=\"_\")) %>%\n",
    "    mutate(sample_name = gsub(\"blood.*\", \"\", sample_name)) %>%\n",
    "    mutate(sample_names= paste0(\"MKB\", sample_name)) %>%\n",
    "    left_join(select(QCT, \n",
    "                    id, \n",
    "                    TRAB_A_RAD_4, \n",
    "                    TRAB_DEN_RAD_4, \n",
    "                    TOT_A_RAD_4, \n",
    "                    TOT_DEN_RAD_4, \n",
    "                    CRT_A_RAD_4, \n",
    "                    CRT_DEN_RAD_4, \n",
    "                    CRT_THK_C_RAD_4), by = c(\"sample_names\" = \"id\")) %>%\n",
    "    select(-c(Slide, Array)) %>%\n",
    "    mutate_at(.vars = vars(\"Chip.number\", \"Batch\", \"BMD\", \"Fx\", \"group\"), factor) %>%\n",
    "    tibble::column_to_rownames(var = \"sample_name\")\n",
    "\n",
    "colnames(MQ)\t<- rownames(pheno[match(colnames(MQ), pheno$slide_array),]) \n",
    "colnames(MNQ)\t<- rownames(pheno[match(colnames(MNQ), pheno$slide_array),]) "
   ]
  },
  {
   "cell_type": "code",
   "execution_count": null,
   "metadata": {},
   "outputs": [],
   "source": []
  }
 ],
 "metadata": {
  "jupytext": {
   "formats": "md:myst",
   "text_representation": {
    "extension": ".md",
    "format_name": "myst"
   }
  },
  "kernelspec": {
   "display_name": "R",
   "language": "R",
   "name": "ir"
  },
  "language_info": {
   "codemirror_mode": "r",
   "file_extension": ".r",
   "mimetype": "text/x-r-source",
   "name": "R",
   "pygments_lexer": "r",
   "version": "4.0.3"
  },
  "source_map": [
   11,
   19,
   37,
   41,
   77
  ]
 },
 "nbformat": 4,
 "nbformat_minor": 4
}