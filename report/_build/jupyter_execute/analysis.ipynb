{
 "cells": [
  {
   "cell_type": "markdown",
   "metadata": {},
   "source": [
    "# Example"
   ]
  },
  {
   "cell_type": "code",
   "execution_count": 1,
   "metadata": {
    "message": false,
    "name": "load_section",
    "tags": [
     "remove_input"
    ],
    "warning": false
   },
   "outputs": [],
   "source": [
    "suppressWarnings(suppressMessages(suppressPackageStartupMessages({\n",
    "library(\"kableExtra\")\n",
    "library(\"knitr\")\n",
    "library(\"openxlsx\")\n",
    "library(\"ggplot2\")\n",
    "library(\"PCAtools\")\n",
    "library(\"factoextra\")\n",
    "library(\"FactoMineR\")\n",
    "library(\"cowplot\")\n",
    "library(\"ggpubr\")\n",
    "library(\"limma\")\n",
    "library(\"openxlsx\")\n",
    "library(\"dplyr\")\n",
    "})))"
   ]
  },
  {
   "cell_type": "code",
   "execution_count": 2,
   "metadata": {
    "lines_to_next_cell": 2
   },
   "outputs": [],
   "source": [
    "# Load and clean data...\n",
    "MQ <- readRDS(\"../data/external/MQ.RData\")\n",
    "MNQ <- readRDS(\"../data/external/MNQ.RData\")\n",
    "MNQC <- readRDS(\"../data/external/MNQC.RData\")\n",
    "annotation <- readRDS(\"../data/external/annotation.RDS\")\n",
    "ann <- annotation[match(rownames(MNQC), annotation$Name),c(1:4, 12:19, 22:ncol(annotation))]\n",
    "QCT <- read.csv(\"../data/external/SuperG_pQCT_PE.csv\", sep = \";\", dec=\".\", strip.white = TRUE)\n",
    "phenoData <- readRDS(\"../data/external/phenoData.RData\")\n",
    "pheno\t<- phenoData %>%\n",
    "    as.data.frame() %>%\n",
    "    select(-c(Basename, filenames, xMed, yMed, predictedSex)) %>%\n",
    "    mutate(Fx = ifelse(Fx == 0, \"noFx\", \"Fx\")) %>%\n",
    "    mutate(Batch = ifelse(Batch == 1, \"Batch1\", \"Batch2\")) %>%\n",
    "    mutate(slide_array = paste(Slide, Array, sep=\"_\")) %>%\n",
    "    mutate(group = paste(BMD, Fx, sep=\"_\")) %>%\n",
    "    mutate(sample_name = gsub(\"blood.*\", \"\", sample_name)) %>%\n",
    "    mutate(sample_names= paste0(\"MKB\", sample_name)) %>%\n",
    "    left_join(select(QCT, \n",
    "                    id, \n",
    "                    TRAB_A_RAD_4, \n",
    "                    TRAB_DEN_RAD_4, \n",
    "                    TOT_A_RAD_4, \n",
    "                    TOT_DEN_RAD_4, \n",
    "                    CRT_A_RAD_4, \n",
    "                    CRT_DEN_RAD_4, \n",
    "                    CRT_THK_C_RAD_4), by = c(\"sample_names\" = \"id\")) %>%\n",
    "    select(-c(Slide, Array)) %>%\n",
    "    mutate_at(.vars = vars(\"Chip.number\", \"Batch\", \"BMD\", \"Fx\", \"group\"), factor) %>%\n",
    "    tibble::column_to_rownames(var = \"sample_name\")\n",
    "\n",
    "colnames(MQ)\t<- rownames(pheno[match(colnames(MQ), pheno$slide_array),]) \n",
    "colnames(MNQ)\t<- rownames(pheno[match(colnames(MNQ), pheno$slide_array),]) "
   ]
  },
  {
   "cell_type": "markdown",
   "metadata": {},
   "source": [
    "# Data\n",
    "\n",
    "The methylation data has been preprocessed by the user in three different ways:\n",
    "\n",
    "- Normalization (Quantile)\n",
    "- Normalization (Quantile) and background correction (Noob)\n",
    "- Normalization (Quantile) and background correction (Noob) and batch correction (Combat)\n",
    "\n",
    "The author of a paper on [the normalization of methylation data](https://genomebiology.biomedcentral.com/articles/10.1186/s13059-014-0503-2) proposes the [combination of Noob and Quantile normalization](https://www.biostars.org/p/149628/) as appropriate in situations where no large global differences are expected (as in e.g. whole blood samples such as here).\n",
    "So, the base dataset to work on will be the Noob+Quantile normalized dataset. "
   ]
  },
  {
   "cell_type": "markdown",
   "metadata": {},
   "source": [
    "## Results\n",
    "\n",
    "### PCA of methylation data\n",
    "\n",
    "Using [Principal Component Analysis](http://setosa.io/ev/principal-component-analysis) (PCA), we examine the structure of the data by projecting the samples on a two-dimensional graph using the principal components that explain the most variation between those samples. The resulting plot can be used to examine the samples for biological conditions, outliers, sample swaps or other relationships between the samples. When normalization successfully removed technical artefacts, the relative distances should be biologically interpretable. In Figure \\@ref(fig:pcafig-all), you can see the result of a PCA analysis using all probes on PC1 and PC2 and coloration according to BMD and Fracture combination. The thicker symbols indicate the \"median\" of each subgroup. No type of structure is immediately visible."
   ]
  },
  {
   "cell_type": "code",
   "execution_count": null,
   "metadata": {
    "fig.cap": "PCA using all probes",
    "name": "pcafig-all"
   },
   "outputs": [],
   "source": [
    "m_all <- MNQ[order(rowVars(MNQ), decreasing = TRUE), ][,]\n",
    "m_all <- m_all[,rownames(pheno)]\n",
    "p_all <- prcomp(t(m_all), scale. = FALSE)\n",
    "fviz_pca_ind(p_all,\n",
    "         axes = c(1,2),\n",
    "         geom.ind = c(\"point\", \"text\"),\n",
    "         pointshape = 21,\n",
    "         fill.ind = pheno$group,\n",
    "         palette = \"jco\",\n",
    "         label = \"\",\n",
    "         title = \"All probes\")"
   ]
  },
  {
   "cell_type": "markdown",
   "metadata": {},
   "source": [
    "Digging deeper, we can list the p values of the correlation of the different types of metadata with the principal components (see Table \\@ref(tab:pca-table)) to detect structure in the data. A Kruskal-Wallis (for categorical metadata) or a Spearman correlation (for continuous metadata) is performed on the first 10 principal components. Significant structure in the data would show up as significant p values."
   ]
  },
  {
   "cell_type": "code",
   "execution_count": null,
   "metadata": {
    "name": "pca-table"
   },
   "outputs": [],
   "source": [
    "corr_all <- correlatePCs(p_all, coldata=pheno[, c(\"group\", \"Fx\", \"BMD\", \"Batch\", \"TRAB_A_RAD_4\", \"TRAB_DEN_RAD_4\", \"TOT_A_RAD_4\", \"TOT_DEN_RAD_4\", \"CRT_A_RAD_4\", \"CRT_DEN_RAD_4\", \"CRT_THK_C_RAD_4\")], pcs = 1:10)\n",
    "corr_all %>%\n",
    "   as.data.frame(corr_all, row.names = rownames(corr_all)) %>%\n",
    "   rownames_to_column() %>%\n",
    "   mutate(rowname = gsub(\"_\", \"-\", rowname)) %>%\n",
    "   rename_all(function(x) gsub(\"_\", \" \", x)) %>%\n",
    "   mutate_if(is.numeric, ~ round(., 4)) %>%\n",
    "   mutate_if(is.numeric, ~cell_spec(., color = ifelse(. < 0.05, \"red\", \"black\"))) %>%\n",
    "   column_to_rownames() %>%\n",
    "   kable(escape = FALSE, row.names = TRUE, caption = \"P values of correlation test of metadata with PCs. Kruskal-Willis test for categorical data and Spearman correlation for continuous data. PCA calculated using all probes.\") %>%\n",
    "   kable_styling(full_width = FALSE, latex_options = c(\"scale_down\", \"hold_position\"))\n"
   ]
  },
  {
   "cell_type": "markdown",
   "metadata": {},
   "source": [
    "The largest structure seems to be the Batch effect. This can be visualized using in particular PC4 vs PC5 in Figure \\@ref(fig:pca-batch)."
   ]
  },
  {
   "cell_type": "code",
   "execution_count": null,
   "metadata": {
    "name": "pca-batch"
   },
   "outputs": [],
   "source": [
    "fviz_pca_ind(p_all,\n",
    "         axes = c(4,5),\n",
    "         geom.ind = c(\"point\", \"text\"),\n",
    "         pointshape = 21,\n",
    "         fill.ind = pheno$Batch,\n",
    "         palette = \"jco\",\n",
    "         label = \"\",\n",
    "         title = \"All probes\")"
   ]
  },
  {
   "cell_type": "markdown",
   "metadata": {},
   "source": [
    "Do we see more structure if we restrict the data to the 10 000 most variable probes? See Figure \\@ref(fig:pcafig-var) for the PCA visualization using 10 000 most variable probes. Again, obvious structure in the data according to the biological conditions seems absent."
   ]
  },
  {
   "cell_type": "code",
   "execution_count": null,
   "metadata": {
    "fig.cap": "PCA using 10 000 most variable probes",
    "name": "pcafig-var"
   },
   "outputs": [],
   "source": [
    "m_var\t<- m_all[1:10000,]\n",
    "p_var <- prcomp(t(m_var), scale. = FALSE)\n",
    "fviz_pca_ind(p_var,\n",
    "         axes = c(1,2),\n",
    "         geom.ind = c(\"point\", \"text\"),\n",
    "         pointshape = 21,\n",
    "         fill.ind = pheno$group,\n",
    "         palette = \"jco\",\n",
    "         label = \"\",\n",
    "         title = \"10 000 most variable probes\")"
   ]
  },
  {
   "cell_type": "markdown",
   "metadata": {},
   "source": [
    "Again, we can list the p values of the correlation of the metadata with the principal components calculated using the most variable probes (see Table \\@ref(tab:pca-var-table)). A Kruskal-Wallis (for categorical metadata) or a Spearman correlation (for continuous metadata) is performed on the first 10 principal components. Significant structure in the data would show up as significant p values."
   ]
  },
  {
   "cell_type": "code",
   "execution_count": null,
   "metadata": {
    "name": "pca-var-table"
   },
   "outputs": [],
   "source": [
    "corr_var <- correlatePCs(p_var, coldata=pheno[, c(\"group\", \"Fx\", \"BMD\", \"Batch\", \"TRAB_A_RAD_4\", \"TRAB_DEN_RAD_4\", \"TOT_A_RAD_4\", \"TOT_DEN_RAD_4\", \"CRT_A_RAD_4\", \"CRT_DEN_RAD_4\", \"CRT_THK_C_RAD_4\")], pcs = 1:10)\n",
    "corr_var %>%\n",
    "   as.data.frame(corr_var, row.names = rownames(corr_var)) %>%\n",
    "   rownames_to_column() %>%\n",
    "   mutate(rowname = gsub(\"_\", \"-\", rowname)) %>%\n",
    "   rename_all(function(x) gsub(\"_\", \" \", x)) %>%\n",
    "   mutate_if(is.numeric, ~ round(., 4)) %>%\n",
    "   mutate_if(is.numeric, ~cell_spec(., color = ifelse(. < 0.05, \"red\", \"black\"))) %>%\n",
    "   column_to_rownames() %>%\n",
    "   kable(escape = FALSE, row.names = TRUE, caption = \"P values of correlation test of metadata with PCs. Kruskal-Willis test for categorical data and Spearman correlation for continuous data. PCA calculated using the 10 000 most variable probes.\") %>%\n",
    "   kable_styling(full_width = FALSE, latex_options = c(\"scale_down\", \"hold_position\"))"
   ]
  },
  {
   "cell_type": "markdown",
   "metadata": {},
   "source": [
    "The batch effect is even a little bit more clear when looking at the PC2 vs PC3 of this most variable subset of the data."
   ]
  },
  {
   "cell_type": "code",
   "execution_count": null,
   "metadata": {
    "name": "pca-batch-var"
   },
   "outputs": [],
   "source": [
    "fviz_pca_ind(p_var,\n",
    "         axes = c(2,3),\n",
    "         geom.ind = c(\"point\", \"text\"),\n",
    "         pointshape = 21,\n",
    "         fill.ind = pheno$Batch,\n",
    "         palette = \"jco\",\n",
    "         label = \"\",\n",
    "         title = \"10 000 most variable probes\")"
   ]
  },
  {
   "cell_type": "markdown",
   "metadata": {},
   "source": [
    "CONCLUSION: There is not so much structure in the data except for the batch effect. There seems to be some correlation with the continuous phenotypical covariates. How does this reflect on the differential methylation?\n",
    "\n",
    "### Differential methylation BMD and Fractures\n",
    "\n",
    "Earlier analysis was done on Combat adjusted data and did not result in significantly differentially methylated probes for the Fracture or BMD comparisons. The question now is whether including the batch effect in the linear model might yield more results.\n",
    "\n",
    "#### Probe Level\n",
    "\n",
    "To assess the different methylation levels, we used the limma R package. Covariates included in each model are the batch effect and the cell type composition as calculated by the group.\n",
    "\n",
    "After multiple correction no single probes pass the significance threshold. A quick literature search reveals that on the single probe level several bone/osteoporosis articles failed to show significant methylation levels.\n",
    "\n",
    "Full results for these differential methylation comparisons are collected in the \"Probes\" folder.\n",
    "\n",
    "#### Region Level\n",
    "\n",
    "Differential methylation is often evaluated at a regional level - so not single changed CpG sites but multiple close sites that are methylated similarly.\n",
    "\n",
    "[mCGSEA (methylated CpGs Set Enrichment Analysis)](https://pubmed.ncbi.nlm.nih.gov/30753302/) is a GSEA-based differential methylation analysis where gene sets are defined as sets of CpG sites in predefined regions. This new tool is capable to detect subtle but consistent methylation differences in predefined genomic regions from 450 K and EPIC microarrays data. The predefined regions are promoter regions, genes and CpG islands.\n",
    "\n",
    "**mCSEA is based on Gene Set Enrichment analysis (GSEA), a popular methodology for functional analysis that was specifically designed to avoid some drawbacks in the field of gene expression. GSEA is able to detect significant gene sets that exhibit strong cross-correlation when differential expression of individual genes is modest from the statistical point of view. GSEA uses a given statistical metric to rank all genes of a genome and applies a weighted Kolmogorov–Smirnov (KS) statistic to calculate an Enrichment Score (ES). Basically, ES for each set is calculated running through the entire ranked list increasing the score when a gene in the set is encountered and decreasing the score when the gene encountered is not in the analyzed set. ES of this set is the maximum difference from 0.**\n",
    "\n",
    "The statistic that is used in this package to rank the probes is the t-statistic from the limma test of the individual probes. This statistic is somewhat similar to the log2 fold change normalized to the standard error of the probe.\n",
    "\n",
    "The ES and NES (ES normalized for set size) of a set are calculated by looking at where the statistics of probes belonging to a certain set can be found in the ranked probe list. A high (N)ES indicates these probes are found high up in the list of \"BMD high vs low\" or \"fractures vs no fractures\". In other words, a high (N)ES value means that for the probes in this set there is - on average - a shift towards a higher methylation in high BMD or fracture versus no fracture.\n",
    "\n",
    "The significance of each (N)ES is calculated permuting the sets and recomputing ES, getting a null distribution for the ES. A multiple comparison correction is also performed on the p values.\n",
    "\n",
    "Results for these comparisons are collected in the \"Regions\" folder. Each excel result file has three tabs for the three predefined regions:\n",
    "\n",
    "* Genes: probes belonging to the body of a gene\n",
    "* Promoters: probes belonging to the promoter of a gene\n",
    "* CpG Islands: probes belonging to CpG Islands\n",
    "\n",
    "More info on method and results can be found in the linked paper at the top of this section."
   ]
  },
  {
   "cell_type": "code",
   "execution_count": null,
   "metadata": {
    "name": "probe_region_main"
   },
   "outputs": [],
   "source": [
    "\n",
    "mains\t<- c(\"BMD\", \"Fx\")\n",
    "\n",
    "for(main in mains){\n",
    "mod <- model.matrix(as.formula(paste0(\"~ 0 + \", main, \" + Batch + CD8T + CD4T + NK + Bcell + Mono + Neu\")), data = pheno)\n",
    "fit <- lmFit(MNQ, mod)\n",
    "if(main == \"Fx\"){\n",
    "   contMatrix <- makeContrasts(contrasts = \"FxFx-FxnoFx\", levels = mod)\n",
    "} else {\n",
    "   contMatrix <- makeContrasts(contrasts = \"BMDHigh-BMDLow\", levels = mod)\n",
    "}\n",
    "fit_contrast\t<- contrasts.fit(fit, contMatrix)\n",
    "fit_res\t<- eBayes(fit_contrast)\n",
    "\n",
    "write.xlsx(topTable(fit_res, n=Inf), paste0(\"Results/Probes/\", main, \".xlsx\"), row.names=TRUE)\n",
    "\n",
    "myRank \t<- rankProbes(MNQ,\n",
    "                      pheno, \n",
    "                      explanatory = main, \n",
    "                      covariates = c(\"Batch\", \"CD8T\", \"CD4T\", \"NK\", \"Bcell\", \"Mono\", \"Neu\"),\n",
    "                      continuous = c(\"CD8T\", \"CD4T\", \"NK\", \"Bcell\", \"Mono\", \"Neu\"), \n",
    "                      typeInput = \"M\")\n",
    "myTest\t<-  mCSEATest(myRank, \n",
    "                      MNQ, \n",
    "                      pheno = pheno, \n",
    "                      column = main, \n",
    "                      regionsTypes = c(\"promoters\", \"genes\", \"CGI\"), \n",
    "                      platform = \"EPIC\")\n",
    "\n",
    "write.xlsx(myTest[c(\"genes\", \"promoters\", \"CGI\")], paste0(\"Results/Regions/mCSEA_\", main, \".xlsx\"), row.names = TRUE) \n",
    "}"
   ]
  },
  {
   "cell_type": "markdown",
   "metadata": {},
   "source": [
    "### Differential methylation QCT\n",
    "\n",
    "#### Probe Level\n",
    "\n",
    "To assess the different methylation levels for the QCT measurements, we again used the limma R package. Covariates included in each model are again the batch effect and the cell type composition as calculated by the group.\n",
    "\n",
    "After multiple correction no single probes pass the significance threshold.\n",
    "\n",
    "As before, results for these comparisons are collected in the \"Probes\" folder.\n",
    "\n",
    "#### Region Level\n",
    "\n",
    "As before, probes are ranked according to the t-statistic of their association with the QCT value and used as input for the mCSEA analysis. A higher (N)ES value means that for the probes in this set there is - on average - a shift towards a higher methylation in higher values of the QCT measurement.\n",
    "\n",
    "Results for these comparisons are also collected in the \"Regions\" folder. Each excel has three tabs:\n",
    "\n",
    "* Genes: probes belonging to the body of a gene\n",
    "* Promoters: probes belonging to the promoter of a gene\n",
    "* CpG Islands: probes belonging to CpG Islands"
   ]
  },
  {
   "cell_type": "code",
   "execution_count": null,
   "metadata": {
    "name": "probe_region_qct"
   },
   "outputs": [],
   "source": [
    "\n",
    "QCTs\t<- c(\"TRAB_A_RAD_4\",\n",
    "            \"TRAB_DEN_RAD_4\",\n",
    "            \"TOT_A_RAD_4\",\n",
    "            \"TOT_DEN_RAD_4\",\n",
    "            \"CRT_A_RAD_4\",\n",
    "            \"CRT_DEN_RAD_4\",\n",
    "            \"CRT_THK_C_RAD_4\")\n",
    "\n",
    "for(qct in QCTs){\n",
    "mod <- model.matrix(as.formula(paste0(\"~ \", qct, \" + Batch + CD8T + CD4T + NK + Bcell + Mono + Neu\")), data = pheno)\n",
    "M_cont\t<- MNQ[, rownames(mod)]\n",
    "fit <- lmFit(M_cont, mod)\n",
    "fit_contrast \t<- contrasts.fit(fit, coefficients = 2)\n",
    "fit_res\t<- eBayes(fit_contrast)\n",
    "\n",
    "write.xlsx(topTable(fit_res, n=Inf), paste0(\"Results/Probes/\", qct, \".xlsx\"), row.names=TRUE)\n",
    "\n",
    "myRank \t<- setNames(as.numeric(fit_res$t), rownames(fit_res$t))\n",
    "myTest\t<-  mCSEATest(myRank, \n",
    "                      MNQ, \n",
    "                      pheno = pheno, \n",
    "                      column = qct, \n",
    "                      regionsTypes = c(\"promoters\", \"genes\", \"CGI\"), \n",
    "                      platform = \"EPIC\")\n",
    "write.xlsx(myTest[c(\"genes\", \"promoters\", \"CGI\")], paste0(\"Results/Regions/mCSEA_\", qct, \".xlsx\"), row.names = TRUE) \n",
    "}"
   ]
  },
  {
   "cell_type": "markdown",
   "metadata": {},
   "source": [
    "### QCT Data\n",
    "\n",
    "#### PCA\n",
    "\n",
    "To look for further structure in the QCT data, a PCA on this data was performed as well (see Figure \\@ref(fig:qct-pca)). On visual inspection, it seems there might be a slight difference between Low_NoFx and the other groups."
   ]
  },
  {
   "cell_type": "code",
   "execution_count": null,
   "metadata": {
    "name": "qct-pca"
   },
   "outputs": [],
   "source": [
    "# Perform a pca pn the clinical data only\n",
    "pheno_clin \t<- pheno %>%\n",
    "  as.data.frame() %>%\n",
    "  dplyr::select(ends_with(\"4\")) %>%\n",
    "  drop_na() %>%\n",
    "  as.matrix()\n",
    "p_clin <- prcomp(pheno_clin, scale. = TRUE)\n",
    "fviz_pca_ind(p_clin,\n",
    "            axes = c(1,2),\n",
    "            #geom.var = c(\"arrow\", \"text\"),\n",
    "            pointshape = 21,\n",
    "            geom.ind = \"point\",\n",
    "            fill.ind = pheno[rownames(pheno_clin), \"group\"],\n",
    "            legend.title = \"Group\",\n",
    "            #repel = TRUE,\n",
    "            title = \"\")"
   ]
  },
  {
   "cell_type": "markdown",
   "metadata": {},
   "source": [
    "#### Comparative statistics\n",
    "\n",
    "Simple comparative statistics per group for the different QCT measurements are visualized below and give a bit more info on the data structure."
   ]
  },
  {
   "cell_type": "code",
   "execution_count": null,
   "metadata": {
    "fig.height": 10,
    "name": "qct-plot-bmd"
   },
   "outputs": [],
   "source": [
    "dat \t<- pheno %>%\n",
    "  pivot_longer(cols = ends_with(\"RAD_4\"),\n",
    "  names_to = \"metric\",\n",
    "  values_to = \"value\",\n",
    "  values_drop_na = TRUE)\n",
    "ggboxplot(dat, x = \"BMD\", y = \"value\", color = \"BMD\", add = \"jitter\") +\n",
    "                facet_wrap( ~ metric, scales = \"free\") +\n",
    "                stat_compare_means(method = \"t.test\") +\n",
    "                scale_y_continuous(expand = expansion(mult = 0.1)) "
   ]
  },
  {
   "cell_type": "code",
   "execution_count": null,
   "metadata": {
    "fig.height": 10,
    "name": "qct-plot-fx"
   },
   "outputs": [],
   "source": [
    "dat \t<- pheno %>%\n",
    "  pivot_longer(cols = ends_with(\"RAD_4\"),\n",
    "  names_to = \"metric\",\n",
    "  values_to = \"value\",\n",
    "  values_drop_na = TRUE)\n",
    "ggboxplot(dat, x = \"Fx\", y = \"value\", color = \"Fx\", add = \"jitter\") +\n",
    "                facet_wrap( ~ metric, scales = \"free\") +\n",
    "                stat_compare_means(method = \"t.test\") +\n",
    "                scale_y_continuous(expand = expansion(mult = 0.1))"
   ]
  },
  {
   "cell_type": "code",
   "execution_count": null,
   "metadata": {
    "fig.height": 10,
    "name": "qct-plot-group"
   },
   "outputs": [],
   "source": [
    "dat \t<- pheno %>%\n",
    "  pivot_longer(cols = ends_with(\"RAD_4\"),\n",
    "  names_to = \"metric\",\n",
    "  values_to = \"value\",\n",
    "  values_drop_na = TRUE)\n",
    "ggboxplot(dat, x = \"group\", y = \"value\", color = \"group\", add = \"jitter\") +\n",
    "                facet_wrap( ~ metric, scales = \"free\") +\n",
    "                stat_compare_means(method = \"anova\") +\n",
    "                scale_y_continuous(expand = expansion(mult = 0.1))"
   ]
  }
 ],
 "metadata": {
  "jupytext": {
   "text_representation": {
    "extension": ".Rmd",
    "format_name": "rmarkdown"
   }
  },
  "kernelspec": {
   "display_name": "R",
   "language": "R",
   "name": "ir"
  },
  "language_info": {
   "codemirror_mode": "r",
   "file_extension": ".r",
   "mimetype": "text/x-r-source",
   "name": "R",
   "pygments_lexer": "r",
   "version": "4.0.3"
  }
 },
 "nbformat": 4,
 "nbformat_minor": 4
}